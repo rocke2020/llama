{
 "cells": [
  {
   "cell_type": "code",
   "execution_count": 2,
   "metadata": {},
   "outputs": [
    {
     "name": "stdout",
     "output_type": "stream",
     "text": [
      "tensor([0.0486, 0.3592, 0.5922])\n",
      "tensor([0.0000, 0.2500, 0.7500])\n",
      "tensor([0.0000, 0.3260, 0.6740])\n"
     ]
    },
    {
     "data": {
      "text/plain": [
       "'  \\ntensor([0.0486, 0.3592, 0.5922])\\ntensor([0.0000, 0.2500, 0.7500])\\ntensor([0.0000, 0.3260, 0.6740])\\n'"
      ]
     },
     "execution_count": 2,
     "metadata": {},
     "output_type": "execute_result"
    }
   ],
   "source": [
    "import torch\n",
    "from torch.nn.functional import softmax\n",
    "from torch.nn import CrossEntropyLoss\n",
    "\n",
    "# ignore_index is also -100\n",
    "from entmax import sparsemax, entmax15, entmax_bisect, entmax15_loss, sparsemax_loss, Entmax15Loss\n",
    "\n",
    "x = torch.tensor([-2, 0, 0.5])\n",
    "\n",
    "print(softmax(x, dim=0))\n",
    "print(sparsemax(x, dim=0))\n",
    "print(entmax15(x, dim=0))\n",
    "\"\"\"  \n",
    "tensor([0.0486, 0.3592, 0.5922])\n",
    "tensor([0.0000, 0.2500, 0.7500])\n",
    "tensor([0.0000, 0.3260, 0.6740])\n",
    "\"\"\""
   ]
  },
  {
   "cell_type": "code",
   "execution_count": 3,
   "metadata": {},
   "outputs": [
    {
     "name": "stdout",
     "output_type": "stream",
     "text": [
      "-100\n"
     ]
    }
   ],
   "source": [
    "print(CrossEntropyLoss().ignore_index)"
   ]
  },
  {
   "cell_type": "code",
   "execution_count": 21,
   "metadata": {},
   "outputs": [
    {
     "name": "stdout",
     "output_type": "stream",
     "text": [
      "tensor(2.4402)\n",
      "tensor(2.4402)\n"
     ]
    }
   ],
   "source": [
    "import torch\n",
    "from torch.nn.functional import softmax\n",
    "from torch.nn import CrossEntropyLoss\n",
    "\n",
    "# ignore_index is also -100\n",
    "from entmax import sparsemax, entmax15, entmax_bisect, entmax15_loss, sparsemax_loss, Entmax15Loss\n",
    "\n",
    "loss = CrossEntropyLoss()\n",
    "input = torch.tensor([[0.1, 0.2, 0.3, 1], [1, 2, 3, 4]])\n",
    "target = torch.tensor([-100, 1])\n",
    "output = loss(input, target)\n",
    "print(output)\n",
    "input = torch.tensor([[1, 2, 3, 4.0], [1, 2, 3, 4.0]])\n",
    "target = torch.tensor([1, 1])\n",
    "output = loss(input, target)\n",
    "print(output)\n"
   ]
  },
  {
   "cell_type": "code",
   "execution_count": 30,
   "metadata": {},
   "outputs": [
    {
     "name": "stdout",
     "output_type": "stream",
     "text": [
      "tensor([False,  True])\n",
      "tensor([1])\n",
      "tensor([[1., 2., 3., 4.]])\n",
      "tensor(2.0617)\n",
      "tensor(2.0617)\n"
     ]
    }
   ],
   "source": [
    "# ignore_index is also -100\n",
    "from entmax import sparsemax, entmax15, entmax_bisect, entmax15_loss, sparsemax_loss, Entmax15Loss\n",
    "\n",
    "\n",
    "loss2 = Entmax15Loss()\n",
    "input2 = torch.tensor([[0.1, 0.2, 0.3, 1], [1, 2, 3, 4.]])\n",
    "target2 = torch.tensor([-100, 1])\n",
    "kept_positions = target2 != -100\n",
    "print(kept_positions)\n",
    "target2 = target2[kept_positions]\n",
    "print(target2)\n",
    "input2 = input2[kept_positions]\n",
    "print(input2)\n",
    "output = loss2(input2, target2)\n",
    "\n",
    "print(output)\n",
    "\n",
    "input2 = torch.tensor([[1, 2, 3, 4.]])\n",
    "target2 = torch.tensor([1])\n",
    "print(loss2(input2, target2))"
   ]
  }
 ],
 "metadata": {
  "interpreter": {
   "hash": "bac6a29c966a8539dcc16ed9437348d878b55067e7defc08c8422a4765ee60c0"
  },
  "kernelspec": {
   "display_name": "Python 3.9.7 64-bit ('th10': conda)",
   "language": "python",
   "name": "python3"
  },
  "language_info": {
   "codemirror_mode": {
    "name": "ipython",
    "version": 3
   },
   "file_extension": ".py",
   "mimetype": "text/x-python",
   "name": "python",
   "nbconvert_exporter": "python",
   "pygments_lexer": "ipython3",
   "version": "3.9.7"
  },
  "orig_nbformat": 4
 },
 "nbformat": 4,
 "nbformat_minor": 2
}
